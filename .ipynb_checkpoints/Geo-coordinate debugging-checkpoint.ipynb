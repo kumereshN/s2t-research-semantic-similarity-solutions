{
 "cells": [
  {
   "cell_type": "markdown",
   "id": "37b7cf9f",
   "metadata": {},
   "source": [
    "# Import packages"
   ]
  },
  {
   "cell_type": "code",
   "execution_count": 1,
   "id": "1a149cf3",
   "metadata": {
    "ExecuteTime": {
     "end_time": "2021-09-24T09:52:49.867445Z",
     "start_time": "2021-09-24T09:52:41.517865Z"
    }
   },
   "outputs": [
    {
     "name": "stderr",
     "output_type": "stream",
     "text": [
      "[nltk_data] Downloading package maxent_ne_chunker to\n",
      "[nltk_data]     C:\\Users\\Kumeresh\\AppData\\Roaming\\nltk_data...\n",
      "[nltk_data]   Package maxent_ne_chunker is already up-to-date!\n",
      "[nltk_data] Downloading package words to\n",
      "[nltk_data]     C:\\Users\\Kumeresh\\AppData\\Roaming\\nltk_data...\n",
      "[nltk_data]   Package words is already up-to-date!\n",
      "[nltk_data] Downloading package treebank to\n",
      "[nltk_data]     C:\\Users\\Kumeresh\\AppData\\Roaming\\nltk_data...\n",
      "[nltk_data]   Package treebank is already up-to-date!\n",
      "[nltk_data] Downloading package maxent_treebank_pos_tagger to\n",
      "[nltk_data]     C:\\Users\\Kumeresh\\AppData\\Roaming\\nltk_data...\n",
      "[nltk_data]   Package maxent_treebank_pos_tagger is already up-to-\n",
      "[nltk_data]       date!\n",
      "[nltk_data] Downloading package punkt to\n",
      "[nltk_data]     C:\\Users\\Kumeresh\\AppData\\Roaming\\nltk_data...\n",
      "[nltk_data]   Package punkt is already up-to-date!\n"
     ]
    },
    {
     "name": "stdout",
     "output_type": "stream",
     "text": [
      "Collecting en-core-web-sm==3.1.0\n",
      "  Downloading https://github.com/explosion/spacy-models/releases/download/en_core_web_sm-3.1.0/en_core_web_sm-3.1.0-py3-none-any.whl (13.6 MB)\n",
      "Requirement already satisfied: spacy<3.2.0,>=3.1.0 in d:\\anaconda\\envs\\s2t\\lib\\site-packages (from en-core-web-sm==3.1.0) (3.1.2)\n",
      "Requirement already satisfied: preshed<3.1.0,>=3.0.2 in d:\\anaconda\\envs\\s2t\\lib\\site-packages (from spacy<3.2.0,>=3.1.0->en-core-web-sm==3.1.0) (3.0.5)\n",
      "Requirement already satisfied: tqdm<5.0.0,>=4.38.0 in d:\\anaconda\\envs\\s2t\\lib\\site-packages (from spacy<3.2.0,>=3.1.0->en-core-web-sm==3.1.0) (4.62.2)\n",
      "Requirement already satisfied: thinc<8.1.0,>=8.0.8 in d:\\anaconda\\envs\\s2t\\lib\\site-packages (from spacy<3.2.0,>=3.1.0->en-core-web-sm==3.1.0) (8.0.10)\n",
      "Requirement already satisfied: packaging>=20.0 in d:\\anaconda\\envs\\s2t\\lib\\site-packages (from spacy<3.2.0,>=3.1.0->en-core-web-sm==3.1.0) (21.0)\n",
      "Requirement already satisfied: murmurhash<1.1.0,>=0.28.0 in d:\\anaconda\\envs\\s2t\\lib\\site-packages (from spacy<3.2.0,>=3.1.0->en-core-web-sm==3.1.0) (1.0.5)\n",
      "Requirement already satisfied: spacy-legacy<3.1.0,>=3.0.7 in d:\\anaconda\\envs\\s2t\\lib\\site-packages (from spacy<3.2.0,>=3.1.0->en-core-web-sm==3.1.0) (3.0.8)\n",
      "Requirement already satisfied: srsly<3.0.0,>=2.4.1 in d:\\anaconda\\envs\\s2t\\lib\\site-packages (from spacy<3.2.0,>=3.1.0->en-core-web-sm==3.1.0) (2.4.1)\n",
      "Requirement already satisfied: pydantic!=1.8,!=1.8.1,<1.9.0,>=1.7.4 in d:\\anaconda\\envs\\s2t\\lib\\site-packages (from spacy<3.2.0,>=3.1.0->en-core-web-sm==3.1.0) (1.8.2)\n",
      "Requirement already satisfied: setuptools in d:\\anaconda\\envs\\s2t\\lib\\site-packages (from spacy<3.2.0,>=3.1.0->en-core-web-sm==3.1.0) (58.0.4)\n",
      "Requirement already satisfied: wasabi<1.1.0,>=0.8.1 in d:\\anaconda\\envs\\s2t\\lib\\site-packages (from spacy<3.2.0,>=3.1.0->en-core-web-sm==3.1.0) (0.8.2)\n",
      "Requirement already satisfied: pathy>=0.3.5 in d:\\anaconda\\envs\\s2t\\lib\\site-packages (from spacy<3.2.0,>=3.1.0->en-core-web-sm==3.1.0) (0.6.0)\n",
      "Requirement already satisfied: numpy>=1.15.0 in d:\\anaconda\\envs\\s2t\\lib\\site-packages (from spacy<3.2.0,>=3.1.0->en-core-web-sm==3.1.0) (1.20.3)\n",
      "Requirement already satisfied: requests<3.0.0,>=2.13.0 in d:\\anaconda\\envs\\s2t\\lib\\site-packages (from spacy<3.2.0,>=3.1.0->en-core-web-sm==3.1.0) (2.26.0)\n",
      "Requirement already satisfied: catalogue<2.1.0,>=2.0.4 in d:\\anaconda\\envs\\s2t\\lib\\site-packages (from spacy<3.2.0,>=3.1.0->en-core-web-sm==3.1.0) (2.0.4)\n",
      "Requirement already satisfied: jinja2 in d:\\anaconda\\envs\\s2t\\lib\\site-packages (from spacy<3.2.0,>=3.1.0->en-core-web-sm==3.1.0) (3.0.1)\n",
      "Requirement already satisfied: cymem<2.1.0,>=2.0.2 in d:\\anaconda\\envs\\s2t\\lib\\site-packages (from spacy<3.2.0,>=3.1.0->en-core-web-sm==3.1.0) (2.0.5)\n",
      "Requirement already satisfied: blis<0.8.0,>=0.4.0 in d:\\anaconda\\envs\\s2t\\lib\\site-packages (from spacy<3.2.0,>=3.1.0->en-core-web-sm==3.1.0) (0.7.4)\n",
      "Requirement already satisfied: typer<0.4.0,>=0.3.0 in d:\\anaconda\\envs\\s2t\\lib\\site-packages (from spacy<3.2.0,>=3.1.0->en-core-web-sm==3.1.0) (0.3.2)\n",
      "Requirement already satisfied: pyparsing>=2.0.2 in d:\\anaconda\\envs\\s2t\\lib\\site-packages (from packaging>=20.0->spacy<3.2.0,>=3.1.0->en-core-web-sm==3.1.0) (2.4.7)\n",
      "Requirement already satisfied: smart-open<6.0.0,>=5.0.0 in d:\\anaconda\\envs\\s2t\\lib\\site-packages (from pathy>=0.3.5->spacy<3.2.0,>=3.1.0->en-core-web-sm==3.1.0) (5.2.1)\n",
      "Requirement already satisfied: typing-extensions>=3.7.4.3 in d:\\anaconda\\envs\\s2t\\lib\\site-packages (from pydantic!=1.8,!=1.8.1,<1.9.0,>=1.7.4->spacy<3.2.0,>=3.1.0->en-core-web-sm==3.1.0) (3.10.0.2)\n",
      "Requirement already satisfied: certifi>=2017.4.17 in d:\\anaconda\\envs\\s2t\\lib\\site-packages (from requests<3.0.0,>=2.13.0->spacy<3.2.0,>=3.1.0->en-core-web-sm==3.1.0) (2021.5.30)\n",
      "Requirement already satisfied: urllib3<1.27,>=1.21.1 in d:\\anaconda\\envs\\s2t\\lib\\site-packages (from requests<3.0.0,>=2.13.0->spacy<3.2.0,>=3.1.0->en-core-web-sm==3.1.0) (1.26.6)\n",
      "Requirement already satisfied: idna<4,>=2.5 in d:\\anaconda\\envs\\s2t\\lib\\site-packages (from requests<3.0.0,>=2.13.0->spacy<3.2.0,>=3.1.0->en-core-web-sm==3.1.0) (3.2)\n",
      "Requirement already satisfied: charset-normalizer~=2.0.0 in d:\\anaconda\\envs\\s2t\\lib\\site-packages (from requests<3.0.0,>=2.13.0->spacy<3.2.0,>=3.1.0->en-core-web-sm==3.1.0) (2.0.4)\n",
      "Requirement already satisfied: colorama in d:\\anaconda\\envs\\s2t\\lib\\site-packages (from tqdm<5.0.0,>=4.38.0->spacy<3.2.0,>=3.1.0->en-core-web-sm==3.1.0) (0.4.4)\n",
      "Requirement already satisfied: click<7.2.0,>=7.1.1 in d:\\anaconda\\envs\\s2t\\lib\\site-packages (from typer<0.4.0,>=0.3.0->spacy<3.2.0,>=3.1.0->en-core-web-sm==3.1.0) (7.1.2)\n",
      "Requirement already satisfied: MarkupSafe>=2.0 in d:\\anaconda\\envs\\s2t\\lib\\site-packages (from jinja2->spacy<3.2.0,>=3.1.0->en-core-web-sm==3.1.0) (2.0.1)\n",
      "[+] Download and installation successful\n",
      "You can now load the package via spacy.load('en_core_web_sm')\n"
     ]
    }
   ],
   "source": [
    "import nltk\n",
    "import spacy"
   ]
  },
  {
   "cell_type": "code",
   "execution_count": 2,
   "id": "afa29bdd",
   "metadata": {
    "ExecuteTime": {
     "end_time": "2021-09-24T09:53:28.916451Z",
     "start_time": "2021-09-24T09:53:25.386072Z"
    }
   },
   "outputs": [
    {
     "name": "stdout",
     "output_type": "stream",
     "text": [
      "The countries regions in text : \n",
      "{'India': ['Maharashtra', 'Haryana', 'Kerala', 'Nagaland']}\n",
      "The countries cities in text : \n",
      "{'India': ['Mumbai', 'Haryana'], 'Australia': ['Canberra'], 'Pakistan': ['Lahore']}\n",
      "All other countries in text : \n",
      "['India', 'Australia', 'Pakistan']\n",
      "The region cities in text : \n",
      "{'Maharashtra': ['Mumbai'], 'Australian Capital Territory': ['Canberra'], 'Punjab': ['Lahore'], 'Haryana': ['Haryana']}\n",
      "All other regions in text : \n",
      "['Maharashtra', 'Australian Capital Territory', 'Punjab', 'Haryana']\n",
      "All other entities in text : \n",
      "[]\n"
     ]
    }
   ],
   "source": [
    "import locationtagger\n",
    "\n",
    "# initializing sample text\n",
    "sample_text = \"India has very rich and vivid culture widely\\\n",
    "\t\tspread from Kerala to Nagaland to Haryana to Maharashtra. \" \\\n",
    "\t\"Mumbai being financial capital can be said better\\\n",
    "\tthan some western cities such as \" \\\n",
    "\t\" Lahore, Canberra etc. Pakistan and Nepal share its borders\"\n",
    "\n",
    "# extracting entities.\n",
    "place_entity = locationtagger.find_locations(text = sample_text)\n",
    "\n",
    "# getting all country regions\n",
    "print(\"The countries regions in text : \")\n",
    "print(place_entity.country_regions)\n",
    "\n",
    "# getting all country cities\n",
    "print(\"The countries cities in text : \")\n",
    "print(place_entity.country_cities)\n",
    "\n",
    "# getting all other countries\n",
    "print(\"All other countries in text : \")\n",
    "print(place_entity.other_countries)\n",
    "\n",
    "# getting all region cities\n",
    "print(\"The region cities in text : \")\n",
    "print(place_entity.region_cities)\n",
    "\n",
    "# getting all other regions\n",
    "print(\"All other regions in text : \")\n",
    "print(place_entity.other_regions)\n",
    "\n",
    "# getting all other entities\n",
    "print(\"All other entities in text : \")\n",
    "print(place_entity.other)\n"
   ]
  },
  {
   "cell_type": "code",
   "execution_count": null,
   "id": "2fd7b6f4",
   "metadata": {},
   "outputs": [],
   "source": []
  },
  {
   "cell_type": "code",
   "execution_count": null,
   "id": "e3ed04e3",
   "metadata": {},
   "outputs": [],
   "source": []
  },
  {
   "cell_type": "code",
   "execution_count": null,
   "id": "134ed4bf",
   "metadata": {},
   "outputs": [],
   "source": []
  },
  {
   "cell_type": "markdown",
   "id": "9b0767bd",
   "metadata": {},
   "source": [
    "Sources:"
   ]
  },
  {
   "cell_type": "markdown",
   "id": "7a14ebf0",
   "metadata": {},
   "source": [
    "https://www.geeksforgeeks.org/extracting-locations-from-text-using-python/\n",
    "- this is the script on which the service is based on\n",
    "- if any bugs are there, they are likely from the library\n",
    "\n",
    "https://github.com/kaushiksoni10/locationtagger\n",
    "- based on this lib\n",
    "\n",
    "https://medium.com/spatial-data-science/how-to-extract-locations-from-text-with-natural-language-processing-9b77035b3ea4"
   ]
  },
  {
   "cell_type": "markdown",
   "id": "8100864d",
   "metadata": {},
   "source": []
  },
  {
   "cell_type": "markdown",
   "id": "54cbd68d",
   "metadata": {},
   "source": []
  },
  {
   "cell_type": "markdown",
   "id": "0ced27d2",
   "metadata": {},
   "source": []
  },
  {
   "cell_type": "markdown",
   "id": "b1298419",
   "metadata": {},
   "source": []
  }
 ],
 "metadata": {
  "kernelspec": {
   "display_name": "Python 3 (ipykernel)",
   "language": "python",
   "name": "python3"
  },
  "language_info": {
   "codemirror_mode": {
    "name": "ipython",
    "version": 3
   },
   "file_extension": ".py",
   "mimetype": "text/x-python",
   "name": "python",
   "nbconvert_exporter": "python",
   "pygments_lexer": "ipython3",
   "version": "3.9.7"
  },
  "toc": {
   "base_numbering": 1,
   "nav_menu": {},
   "number_sections": true,
   "sideBar": true,
   "skip_h1_title": false,
   "title_cell": "Table of Contents",
   "title_sidebar": "Contents",
   "toc_cell": false,
   "toc_position": {},
   "toc_section_display": true,
   "toc_window_display": false
  }
 },
 "nbformat": 4,
 "nbformat_minor": 5
}
